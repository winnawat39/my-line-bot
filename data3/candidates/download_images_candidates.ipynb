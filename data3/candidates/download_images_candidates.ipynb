{
 "cells": [
  {
   "cell_type": "code",
   "execution_count": 42,
   "metadata": {},
   "outputs": [],
   "source": [
    "import requests\n",
    "from PIL import Image\n",
    "import json\n",
    "import os\n",
    "import re"
   ]
  },
  {
   "cell_type": "markdown",
   "metadata": {},
   "source": [
    "# พรรคภูมิใจไทย"
   ]
  },
  {
   "cell_type": "code",
   "execution_count": 51,
   "metadata": {},
   "outputs": [],
   "source": [
    "with open('./bhumjai-thai.json') as fp:\n",
    "  candidates = json.load(fp)['posts']"
   ]
  },
  {
   "cell_type": "code",
   "execution_count": 52,
   "metadata": {},
   "outputs": [],
   "source": [
    "party_name = 'ภูมิใจไทย'\n",
    "parent_dir = '../../static'\n",
    "directory = '/candidates/' + party_name\n",
    "if not os.path.exists(parent_dir + directory) :\n",
    "    os.makedirs(parent_dir + directory)"
   ]
  },
  {
   "cell_type": "code",
   "execution_count": 53,
   "metadata": {},
   "outputs": [],
   "source": [
    "string_replace = ['นางสาว', 'นาย', 'นาง', 'ร.ต.ต.', 'จ.อ.', 'พ.ต.อ.']\n",
    "for person in candidates:\n",
    "  image_url = person['acf']['image']['sizes']['thumbnail']\n",
    "  filename = person['acf']['first_name'] + '-' + person['acf']['last_name']\n",
    "  filename = re.sub(\"\\t| \", '', filename)\n",
    "  province = person['acf']['province']['label']\n",
    "  zone = person['acf']['district']\n",
    "  if province + '-' + zone == 'เชียงราย-5':\n",
    "    filename = 'รังสรรค์-วันไชยธนวงศ์'\n",
    "  if province + '-' + zone == 'นครราชสีมา-7':\n",
    "    filename = 'สหรัฐ-ชัยพัฒนปรีดากูล'\n",
    "  for s in string_replace :\n",
    "    filename = filename.replace(s, '', 1)\n",
    "  image_fpath = directory + '/' + filename + '.webp'\n",
    "  if not os.path.exists(parent_dir + image_fpath):\n",
    "    response = requests.get(image_url)\n",
    "    if response.status_code:\n",
    "      fp = open(parent_dir + image_fpath, 'wb')\n",
    "      fp.write(response.content)\n",
    "      fp.close()\n",
    "\n",
    "    electoral_key = province + '-' + zone\n",
    "    fpath = '../electorals/' + electoral_key + '.json'\n",
    "    fp = open(fpath)\n",
    "    electoral_data = json.load(fp)\n",
    "    for p in electoral_data['People']:\n",
    "      if p['Party'] == 'ภูมิใจไทย':\n",
    "        p['Image'] = \"/yourcandidates/\" + image_fpath\n",
    "    fp.close()\n",
    "    with open(fpath, 'w') as fp:\n",
    "      json.dump(electoral_data, fp, ensure_ascii=False)"
   ]
  },
  {
   "cell_type": "markdown",
   "metadata": {},
   "source": [
    "# พรรคเพื่อไทย"
   ]
  },
  {
   "cell_type": "code",
   "execution_count": 43,
   "metadata": {},
   "outputs": [],
   "source": [
    "import requests\n",
    "import json\n",
    "import os"
   ]
  },
  {
   "cell_type": "code",
   "execution_count": 44,
   "metadata": {},
   "outputs": [],
   "source": [
    "with open('./pheu-thai.json') as fp:\n",
    "  candidates = json.load(fp)"
   ]
  },
  {
   "cell_type": "code",
   "execution_count": 45,
   "metadata": {},
   "outputs": [],
   "source": [
    "parent_dir = '../../static'\n",
    "directory = '/candidates/เพื่อไทย'\n",
    "if not os.path.exists(parent_dir + directory) :\n",
    "    os.makedirs(parent_dir + directory)"
   ]
  },
  {
   "cell_type": "code",
   "execution_count": 46,
   "metadata": {},
   "outputs": [],
   "source": [
    "candidates = candidates['representatives']"
   ]
  },
  {
   "cell_type": "code",
   "execution_count": 47,
   "metadata": {},
   "outputs": [],
   "source": [
    "for person in candidates:\n",
    "  image_url = person['picUrl']\n",
    "  filename = person['slug']\n",
    "  image_fpath = directory + '/' + filename + '.webp'\n",
    "  \n",
    "  if not os.path.exists(parent_dir + image_fpath):\n",
    "    response = requests.get(image_url)\n",
    "    if response.status_code:\n",
    "        fp = open(parent_dir + image_fpath, 'wb')\n",
    "        fp.write(response.content)\n",
    "        fp.close()\n",
    "\n",
    "    electoral_key = person['province'] + '-' + str(person['areaNo'])\n",
    "    fpath = '../electorals/' + electoral_key + '.json'\n",
    "    fp = open(fpath)\n",
    "    electoral_data = json.load(fp)\n",
    "    for p in electoral_data['People']:\n",
    "      if p['Party'] == 'เพื่อไทย':\n",
    "        p['Image'] = \"/yourcandidates\" + image_fpath\n",
    "        if len(person['educations']) != 0:\n",
    "          p['Education'] = person['educations'][0]['degree']\n",
    "    fp.close()\n",
    "    with open(fpath, 'w') as fp:\n",
    "      json.dump(electoral_data, fp, ensure_ascii=False)\n"
   ]
  },
  {
   "attachments": {},
   "cell_type": "markdown",
   "metadata": {},
   "source": [
    "# พรรคก้าวไกล"
   ]
  },
  {
   "cell_type": "code",
   "execution_count": 46,
   "metadata": {},
   "outputs": [],
   "source": [
    "import requests\n",
    "import json\n",
    "import os"
   ]
  },
  {
   "cell_type": "code",
   "execution_count": 47,
   "metadata": {},
   "outputs": [],
   "source": [
    "with open('./moveforward.json') as fp:\n",
    "  data = json.load(fp)\n",
    "\n",
    "data_province = data['data']['data']"
   ]
  },
  {
   "cell_type": "code",
   "execution_count": 48,
   "metadata": {},
   "outputs": [],
   "source": [
    "parent_dir = '../../static'\n",
    "directory = '/candidates/ก้าวไกล'\n",
    "if not os.path.exists(parent_dir + directory) :\n",
    "    os.makedirs(parent_dir + directory)"
   ]
  },
  {
   "cell_type": "code",
   "execution_count": 49,
   "metadata": {},
   "outputs": [],
   "source": [
    "for province in data_province:\n",
    "  candidates = province['attributes']['members']['data']\n",
    "  for person in candidates:\n",
    "    \n",
    "    if person['attributes']['firstname'] == '-' : \n",
    "      continue\n",
    "\n",
    "    id_person = person['id']\n",
    "    person = person['attributes']\n",
    "\n",
    "    image_url = \"https://d3c5xfgl7q2ci6.cloudfront.net\" + person['avatar']['picture']['data']['attributes']['formats']['thumbnail']['url']\n",
    "    filename = person['firstname'] + '-' + person['lastname']\n",
    "    filename = filename.replace(' ', '')\n",
    "    image_fpath = directory + '/' + filename + '.webp'\n",
    "\n",
    "    if not os.path.exists(parent_dir + image_fpath):\n",
    "      response = requests.get(image_url)\n",
    "      if response.status_code:\n",
    "          fp = open(parent_dir + image_fpath, 'wb')\n",
    "          fp.write(response.content)\n",
    "          fp.close()\n",
    "\n",
    "      province_name = province['attributes']['name']\n",
    "      zone = ''\n",
    "      for z in province['attributes']['districts']['data'] :\n",
    "        # match id member with zone\n",
    "        if z['attributes']['member']['data']['id'] == id_person:\n",
    "          zone = z['attributes']['number']\n",
    "\n",
    "      electoral_key = province_name + '-' + str(zone)\n",
    "      fpath = '../electorals/' + electoral_key + '.json'\n",
    "      fp = open(fpath)\n",
    "      electoral_data = json.load(fp)\n",
    "\n",
    "      for p in electoral_data['People']:\n",
    "        if p['Party'] == 'ก้าวไกล':\n",
    "          p['Image'] = \"/yourcandidates\" + image_fpath\n",
    "      fp.close()\n",
    "      with open(fpath, 'w') as fp:\n",
    "        json.dump(electoral_data, fp, ensure_ascii=False)\n"
   ]
  },
  {
   "attachments": {},
   "cell_type": "markdown",
   "metadata": {},
   "source": [
    "# พรรคไทยสร้างไทย"
   ]
  },
  {
   "cell_type": "code",
   "execution_count": 288,
   "metadata": {},
   "outputs": [],
   "source": [
    "# from selenium import webdriver \n",
    "# from selenium.webdriver.common.by import By \n",
    "# from selenium.webdriver.chrome.service import Service as ChromeService \n",
    "# from webdriver_manager.chrome import ChromeDriverManager \n",
    "# import time \n",
    "\n",
    "\n",
    "# # options = webdriver.ChromeOptions() \n",
    "# # options.headless = True \n",
    "# # driver = webdriver.Chrome(service=ChromeService( \n",
    "# # \tChromeDriverManager().install()), options=options) \n",
    "\n",
    "# path_chrome = r''\n",
    "# driver = webdriver.Chrome(executable_path = path_chrome)\n",
    "# driver.maximize_window()\n",
    "\n",
    "# URL = \"https://thaisangthai.org/parliament/\"\n",
    "\n",
    "# # get website content \n",
    "# driver.get(URL) \n",
    "\n",
    "# SCROLL_PAUSE_TIME = 1\n",
    "\n",
    "# # Get scroll height\n",
    "# last_height = driver.execute_script(\"return document.body.scrollHeight\")\n",
    "# elements = []\n",
    "\n",
    "# while True:\n",
    "# \t# Scroll down to bottom\n",
    "# \tdriver.execute_script(\"window.scrollTo(0, document.body.scrollHeight);\")\n",
    "\n",
    "# \t# Wait to load page\n",
    "# \ttime.sleep(SCROLL_PAUSE_TIME)\n",
    "\n",
    "# \tnew_height = driver.execute_script(\"return document.body.scrollHeight\")\n",
    "# \tprint(last_height, new_height)\n",
    "\t\n",
    "# \tif new_height == last_height and len(elements) >= 326:\n",
    "# \t\t\tbreak\n",
    "# \tlast_height = new_height\n",
    " \n",
    "# \t# select elements\n",
    "# \telements = driver.find_elements(By.XPATH, \"//section[@class='elementor-section elementor-top-section elementor-element elementor-element-deabda5 elementor-section-boxed elementor-section-height-default elementor-section-height-default']\")\n"
   ]
  },
  {
   "cell_type": "code",
   "execution_count": 289,
   "metadata": {},
   "outputs": [],
   "source": [
    "# items = []\n",
    "# for element in elements:\n",
    "# \ttext = str(element.get_attribute('innerHTML'))\n",
    "# \ttext = re.sub(\"\\t|\\n\", '', text)\n",
    "# \ttext = text.split(',')[1].split()[0]\n",
    "# \titems.append(text)"
   ]
  },
  {
   "cell_type": "code",
   "execution_count": 290,
   "metadata": {},
   "outputs": [],
   "source": [
    "# with open('./thaisangthai.json', 'w') as f:\n",
    "#   json.dump(items, f, ensure_ascii=False)"
   ]
  },
  {
   "cell_type": "code",
   "execution_count": 317,
   "metadata": {},
   "outputs": [],
   "source": [
    "import json\n",
    "import re\n",
    "import os\n",
    "\n",
    "with open('./thaisangthai.json', 'r') as f:\n",
    "  data = json.load(f)"
   ]
  },
  {
   "cell_type": "code",
   "execution_count": 318,
   "metadata": {},
   "outputs": [],
   "source": [
    "party_name = 'ไทยสร้างไทย'\n",
    "parent_dir = '../../static'\n",
    "directory = '/candidates/' + party_name\n",
    "if not os.path.exists(parent_dir + directory) :\n",
    "    os.makedirs(parent_dir + directory)"
   ]
  },
  {
   "cell_type": "code",
   "execution_count": 319,
   "metadata": {},
   "outputs": [],
   "source": [
    "for person in data:\n",
    "  data_split = person.replace(\".\", \"\").replace(\"เขต\", \"\").replace(\"Name\", '').replace(\"--\", \"-\").split('-')\n",
    "  image_url = person\n",
    "  # นามสกุล 3 พยางค์\n",
    "  if(len(data_split) > 8):\n",
    "    filename = '-'.join(data_split[3:7])\n",
    "  else:\n",
    "    filename = data_split[3] + '-' + data_split[4]\n",
    "  image_fpath = directory + '/' + filename + '.webp'\n",
    "  \n",
    "  if not os.path.exists(parent_dir + image_fpath):\n",
    "    response = requests.get(image_url)\n",
    "    if response.status_code:\n",
    "        fp = open(parent_dir + image_fpath, 'wb')\n",
    "        fp.write(response.content)\n",
    "        fp.close()\n",
    "\n",
    "    if filename == 'ชัยณรงค์-ภู่พิสิฐ':\n",
    "      electoral_key = 'ลำพูน-1'\n",
    "    elif filename == 'วันเพ็ญ-เศษฐรักษา':\n",
    "      electoral_key = 'กาฬสินธุ์-2'\n",
    "    elif filename == 'สุภาพร-สลับศรี':\n",
    "      electoral_key = 'ยโสธร-1'\n",
    "    elif filename == 'รุ่งเพชร-ศรีกาญจนา':\n",
    "      electoral_key = 'หนองบัวลำภู-2'\n",
    "    elif filename == 'โชคเสมอ-คำมุงคุณ':\n",
    "      electoral_key = 'อุดรธานี-4'\n",
    "    else:\n",
    "      electoral_key = data_split[-3].replace('กทม', 'กรุงเทพมหานคร') + '-' + str(data_split[-2])\n",
    "    fpath = '../electorals/' + electoral_key + '.json'\n",
    "    fp = open(fpath)\n",
    "    electoral_data = json.load(fp)\n",
    "    for p in electoral_data['People']:\n",
    "      if p['Party'] == party_name:\n",
    "        p['Image'] = \"/yourcandidates\" + image_fpath\n",
    "    fp.close()\n",
    "    with open(fpath, 'w') as fp:\n",
    "      json.dump(electoral_data, fp, ensure_ascii=False)"
   ]
  }
 ],
 "metadata": {
  "kernelspec": {
   "display_name": "envtf",
   "language": "python",
   "name": "envtf"
  },
  "language_info": {
   "codemirror_mode": {
    "name": "ipython",
    "version": 3
   },
   "file_extension": ".py",
   "mimetype": "text/x-python",
   "name": "python",
   "nbconvert_exporter": "python",
   "pygments_lexer": "ipython3",
   "version": "3.9.15"
  }
 },
 "nbformat": 4,
 "nbformat_minor": 2
}
