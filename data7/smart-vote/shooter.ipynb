{
 "cells": [
  {
   "cell_type": "code",
   "execution_count": 1,
   "id": "1532fdae",
   "metadata": {},
   "outputs": [],
   "source": [
    "import requests\n",
    "import json\n",
    "from tqdm.notebook import tqdm\n",
    "import time\n",
    "import os\n",
    "import random"
   ]
  },
  {
   "cell_type": "markdown",
   "id": "dd74dfc8",
   "metadata": {},
   "source": [
    "URLs\n",
    "\n",
    "- http://13.215.146.238/api/api.php/select_province_and_zone\n",
    "\n",
    "This URL will return a list of all the provinces and election zones in the country.\n",
    "\n",
    "- http://13.215.146.238/api/api.php/select_election_zone_candidates?province=71&zoneNumber=2\n",
    "\n",
    "This URL will return the details of all the election candidates in the province with the ID `71` and zone number `2`.\n",
    "\n",
    "- http://13.215.146.238/api/api.php/select_election_candidate?candidateId=e8ce23553399625dcf33b029d29c2084\n",
    "\n",
    "This URL will return the details of the election candidate with the ID `e8ce23553399625dcf33b029d29c2084`.\n",
    "\n",
    "\n",
    "- http://13.215.146.238/images/candidate/thumb/71/2/7f2ebf81374ec54fd727f65d882c88d3.jpg\n",
    "\n",
    "This URL will return a thumbnail image of the election candidate with the ID `e8ce23553399625dcf33b029d29c2084`."
   ]
  },
  {
   "cell_type": "code",
   "execution_count": 2,
   "id": "8eec84eb",
   "metadata": {},
   "outputs": [],
   "source": [
    "def getter(slug, params={}):\n",
    "    \"\"\"\n",
    "    Get data from the specified API endpoint.\n",
    "\n",
    "    Args:\n",
    "        slug (str): The API endpoint slug.\n",
    "        params (dict): Optional parameters to pass to the API endpoint.\n",
    "\n",
    "    Returns:\n",
    "        dict: The API response data.\n",
    "    \"\"\"\n",
    "\n",
    "    # Construct the API endpoint URL.\n",
    "    ep = 'http://13.215.146.238/api/api.php/' + slug\n",
    "\n",
    "    # Make the API request.\n",
    "    resp = requests.get(ep, params=params)\n",
    "\n",
    "    # Check the API response status code.\n",
    "    if resp.status_code == 200:\n",
    "        # The API request was successful.\n",
    "        data = resp.json()\n",
    "\n",
    "        # Check the API response message code.\n",
    "        if 'MessageCode' in data.keys() and data['MessageCode'] == '00000':\n",
    "            # The API request was successful and the data was returned.\n",
    "            return data['Result']\n",
    "        elif 'error_code' in data.keys() and data['error_code'] == 0:\n",
    "            # The API request was successful but no data was returned.\n",
    "            return data['data_list']\n",
    "        else:\n",
    "            # The API request was successful but the data was not returned.\n",
    "            return []\n",
    "    else:\n",
    "        # The API request failed.\n",
    "        raise requests.exceptions.HTTPError(resp)\n"
   ]
  },
  {
   "cell_type": "code",
   "execution_count": 25,
   "id": "195ae73e",
   "metadata": {},
   "outputs": [],
   "source": [
    "SMART_VOTE_JSON_FILE = 'smartvote-candidates.json'\n",
    "\n",
    "def load_candidate_file():\n",
    "    candidate_list = []\n",
    "    if os.path.exists(SMART_VOTE_JSON_FILE):\n",
    "        with open('smartvote-candidates.json') as fp:\n",
    "            candidate_list = json.load(fp)\n",
    "    return candidate_list\n",
    "\n",
    "def save_candidate_file(candidate_list):\n",
    "    with open(SMART_VOTE_JSON_FILE,'w') as fp:\n",
    "        json.dump(candidate_list, fp, ensure_ascii=False, indent=1)"
   ]
  },
  {
   "cell_type": "markdown",
   "id": "25095306",
   "metadata": {},
   "source": [
    "## Candidate details\n",
    "\n",
    "To get the details of a candidate, send a GET request to the following URL:\n",
    "\n",
    "`http://13.215.146.238/api/api.php/select_election_candidate?candidateId=<candidate_id>`"
   ]
  },
  {
   "cell_type": "code",
   "execution_count": 4,
   "id": "53b47c6f",
   "metadata": {},
   "outputs": [],
   "source": [
    "def get_candidate_info(candidate_id):\n",
    "    return getter('select_election_candidate',\n",
    "                  {'candidateId': candidate_id})"
   ]
  },
  {
   "cell_type": "code",
   "execution_count": 5,
   "id": "11644175",
   "metadata": {
    "scrolled": false
   },
   "outputs": [
    {
     "data": {
      "text/plain": [
       "{'Id': 'e8ce23553399625dcf33b029d29c2084',\n",
       " 'Title': 'นางสาว',\n",
       " 'FirstName': 'อรอนงค์',\n",
       " 'LastName': '  กาญจนชูศักดิ์',\n",
       " 'PartyName': 'ประชาธิปัตย์',\n",
       " 'PartyNumber': '1',\n",
       " 'CandidateNo': '1',\n",
       " 'Age': '61',\n",
       " 'Occupation': 'นักการเมือง',\n",
       " 'HighestEducation': 'ปริญญาโท'}"
      ]
     },
     "execution_count": 5,
     "metadata": {},
     "output_type": "execute_result"
    }
   ],
   "source": [
    "get_candidate_info('e8ce23553399625dcf33b029d29c2084')"
   ]
  },
  {
   "cell_type": "markdown",
   "id": "f220587d",
   "metadata": {},
   "source": [
    "## List of candidate in the district\n",
    "\n",
    "To get the candidates in the district, send a GET request to\n",
    "\n",
    "`http://13.215.146.238/api/api.php/select_election_zone_candidates?province=<province_code>&zoneNumber=<zone_number>`"
   ]
  },
  {
   "cell_type": "code",
   "execution_count": 6,
   "id": "227cdded",
   "metadata": {},
   "outputs": [],
   "source": [
    "def get_candidates_in_district(prov_code, elect_dist_number):\n",
    "    return getter('select_election_zone_candidates',\n",
    "                  {'province': prov_code, 'zoneNumber': elect_dist_number})"
   ]
  },
  {
   "cell_type": "markdown",
   "id": "5661d974",
   "metadata": {},
   "source": [
    "## List all provinces"
   ]
  },
  {
   "cell_type": "code",
   "execution_count": 7,
   "id": "444c0db3",
   "metadata": {},
   "outputs": [],
   "source": [
    "province_list = getter('select_province_and_zone')"
   ]
  },
  {
   "cell_type": "markdown",
   "id": "3d5fbe34",
   "metadata": {},
   "source": [
    "## List all candidates\n",
    "\n",
    "GET all candidates in all provinces"
   ]
  },
  {
   "cell_type": "code",
   "execution_count": 50,
   "id": "67854bdc",
   "metadata": {},
   "outputs": [],
   "source": [
    "def clean_data(candidate):\n",
    "    for k in candidate:\n",
    "        if isinstance(candidate[k], str):\n",
    "            candidate[k] = candidate[k].strip()\n",
    "    if candidate['PartyName'] == '0':\n",
    "        candidate['PartyName'] = 'มิติใหม่'\n",
    "    return candidate"
   ]
  },
  {
   "cell_type": "code",
   "execution_count": 27,
   "id": "17f9e1ba",
   "metadata": {},
   "outputs": [],
   "source": [
    "def candidate_list_from_api(candidate_list):\n",
    "    for province in tqdm(province_list):\n",
    "        prov_code = province['province_code']\n",
    "        dist_total = len(province['zone_list'])\n",
    "        \n",
    "        # `dist_num` for 1 to n\n",
    "        for dist_num in range(1, dist_total+1):\n",
    "            # GET candidates from API\n",
    "            candidates = get_candidates_in_district(prov_code, dist_num)\n",
    "            \n",
    "            for candidate in candidates:\n",
    "                candidate['ProvinceName'] = province['province_name']\n",
    "                candidate['ProvinceCode'] = prov_code\n",
    "                candidate['ZoneNumber']   = dist_num\n",
    "                \n",
    "                candidate_list.append(clean_data(candidate))\n",
    "                \n",
    "    return candidate_list"
   ]
  },
  {
   "cell_type": "code",
   "execution_count": 28,
   "id": "26266eea",
   "metadata": {
    "scrolled": true
   },
   "outputs": [
    {
     "data": {
      "application/vnd.jupyter.widget-view+json": {
       "model_id": "79da486f4d09467e8bbda7ffb7c8d060",
       "version_major": 2,
       "version_minor": 0
      },
      "text/plain": [
       "  0%|          | 0/77 [00:00<?, ?it/s]"
      ]
     },
     "metadata": {},
     "output_type": "display_data"
    }
   ],
   "source": [
    "candidate_list = load_candidate_file()\n",
    "candidate_list = candidate_list_from_api(candidate_list)"
   ]
  },
  {
   "cell_type": "code",
   "execution_count": 29,
   "id": "fd2aa0e5",
   "metadata": {},
   "outputs": [],
   "source": [
    "save_candidate_file(candidate_list)"
   ]
  },
  {
   "cell_type": "markdown",
   "id": "d686545f",
   "metadata": {},
   "source": [
    "## Get candidate info"
   ]
  },
  {
   "cell_type": "markdown",
   "id": "f82c7faa",
   "metadata": {},
   "source": [
    "# Get party"
   ]
  },
  {
   "cell_type": "code",
   "execution_count": 30,
   "id": "3cc993bb",
   "metadata": {},
   "outputs": [],
   "source": [
    "party_list = getter('select_party')\n",
    "party_dict = {p['label'].strip(): p for p in party_list}"
   ]
  },
  {
   "cell_type": "markdown",
   "id": "7926303a",
   "metadata": {},
   "source": [
    "`http://13.215.146.238/api/api.php/select_election_partylist_candidates?partyNumber=244`"
   ]
  },
  {
   "cell_type": "code",
   "execution_count": 31,
   "id": "927a7336",
   "metadata": {},
   "outputs": [],
   "source": [
    "def get_candidate_party_listed(party_id):\n",
    "    return getter('select_election_partylist_candidates',\n",
    "                  {'partyNumber':party_id})"
   ]
  },
  {
   "cell_type": "code",
   "execution_count": 33,
   "id": "e817b38a",
   "metadata": {
    "scrolled": true
   },
   "outputs": [
    {
     "data": {
      "application/vnd.jupyter.widget-view+json": {
       "model_id": "7cfadfcb530947f39d8202fb7fa02570",
       "version_major": 2,
       "version_minor": 0
      },
      "text/plain": [
       "  0%|          | 0/83 [00:00<?, ?it/s]"
      ]
     },
     "metadata": {},
     "output_type": "display_data"
    }
   ],
   "source": [
    "for i, party in enumerate(tqdm(party_list)):\n",
    "    party_id = party['id_dga']\n",
    "    candidates = get_candidate_party_listed(party_id)\n",
    "    \n",
    "    for candidate in candidates:\n",
    "        candidate_list.append(clean_data(candidate))"
   ]
  },
  {
   "cell_type": "code",
   "execution_count": 44,
   "id": "386b8be5",
   "metadata": {},
   "outputs": [
    {
     "data": {
      "application/vnd.jupyter.widget-view+json": {
       "model_id": "1425cc8415fd4df1b993508a2264365e",
       "version_major": 2,
       "version_minor": 0
      },
      "text/plain": [
       "  0%|          | 0/6669 [00:00<?, ?it/s]"
      ]
     },
     "metadata": {},
     "output_type": "display_data"
    }
   ],
   "source": [
    "for i, candidate in enumerate(tqdm(candidate_list)):\n",
    "    if candidate.get('_data_added', False):\n",
    "        continue\n",
    "        \n",
    "    candidate['PartyId'] = party_dict[candidate['PartyName']]['id']\n",
    "    \n",
    "    candidate_id = candidate['CandidateId']    \n",
    "    new_info = get_candidate_info(candidate_id)\n",
    "    candidate.update(clean_data(new_info))\n",
    "    \n",
    "    # flag\n",
    "    candidate['_data_added'] = True\n",
    "    \n",
    "    # sleep\n",
    "    time.sleep(random.randrange(10,300)/1000)\n",
    "    \n",
    "    if random.random() < 0.01:\n",
    "        time.sleep(1)\n",
    "\n",
    "    if i % 100 == 0 or i == len(candidate_list) - 1:\n",
    "        save_candidate_file(candidate_list)"
   ]
  },
  {
   "cell_type": "markdown",
   "id": "343be8bd",
   "metadata": {},
   "source": [
    "# Download images"
   ]
  },
  {
   "cell_type": "code",
   "execution_count": 65,
   "id": "450ef505",
   "metadata": {},
   "outputs": [],
   "source": [
    "def get_image_candidate(candidate, ):\n",
    "    candidate_id = candidate['CandidateId']\n",
    "    if 'ProvinceCode' in candidate.keys():\n",
    "        province_code = candidate['ProvinceCode']\n",
    "        zone_number = candidate['ZoneNumber']\n",
    "    else:\n",
    "        province_code = '00'\n",
    "        zone_number = candidate['PartyId']\n",
    "    \n",
    "    image_url = ('http://13.215.146.238/images/candidate/thumb/'\n",
    "                 f'{province_code}/{zone_number}/{candidate_id}.jpg')\n",
    "    \n",
    "    file_name = candidate['FirstName'] + '-' + candidate['LastName'] + '.jpg'\n",
    "    party = candidate['PartyName']\n",
    "    image_dir = os.path.join('images', party)\n",
    "    image_path = os.path.join(image_dir, file_name)\n",
    "    os.makedirs(image_dir, exist_ok=True)\n",
    "    if os.path.exists(image_path):\n",
    "        candidate['ImagePath'] = image_path\n",
    "        return\n",
    "    \n",
    "    resp = requests.get(image_url)\n",
    "    \n",
    "    # Sleep\n",
    "    time.sleep(random.randrange(10,100)/1000)\n",
    "    \n",
    "    if resp.status_code == 200:\n",
    "        fp = open(image_path, 'wb')\n",
    "        fp.write(resp.content)\n",
    "        fp.close()\n",
    "        \n",
    "        candidate['ImagePath'] = image_path\n",
    "    else:\n",
    "        print('status code is', resp.status_code)\n",
    "    \n",
    "    return"
   ]
  },
  {
   "cell_type": "code",
   "execution_count": 66,
   "id": "247d0e81",
   "metadata": {
    "scrolled": true
   },
   "outputs": [
    {
     "data": {
      "application/vnd.jupyter.widget-view+json": {
       "model_id": "b38aca8386644bbf907a6cd9acdfa5ba",
       "version_major": 2,
       "version_minor": 0
      },
      "text/plain": [
       "  0%|          | 0/6669 [00:00<?, ?it/s]"
      ]
     },
     "metadata": {},
     "output_type": "display_data"
    }
   ],
   "source": [
    "for i,candidate in enumerate(tqdm(candidate_list)):\n",
    "    get_image_candidate(candidate)\n",
    "    \n",
    "    if i % 1000 == 0 or i - 1 == len(candidate_list) - 1:\n",
    "        save_candidate_file(candidate_list)"
   ]
  },
  {
   "cell_type": "markdown",
   "id": "259caa7e",
   "metadata": {},
   "source": [
    "## convert images\n",
    "\n",
    "I wanted to convert image to .webp format and resize it to 156x156"
   ]
  },
  {
   "cell_type": "code",
   "execution_count": 67,
   "id": "131d51d2",
   "metadata": {},
   "outputs": [],
   "source": [
    "from PIL import Image\n",
    "from pathlib import Path"
   ]
  },
  {
   "cell_type": "code",
   "execution_count": 70,
   "id": "9b33f3b5",
   "metadata": {},
   "outputs": [],
   "source": [
    "def calculate_image_size(width, height):\n",
    "    r = 156/width\n",
    "    return (int(width*r),int(height*r))\n",
    "\n",
    "def convert_and_resize(candidate):\n",
    "    original_image_path = candidate['ImagePath']\n",
    "    \n",
    "    destination_image_name = Path(original_image_path).with_suffix('.webp').name\n",
    "    \n",
    "    image_dir = os.path.join('candidates', candidate['PartyName'],)\n",
    "    \n",
    "    save_dir = os.path.join('../..', 'static', image_dir)\n",
    "    \n",
    "    os.makedirs(save_dir, exist_ok=True)\n",
    "    \n",
    "    save_path = os.path.join(save_dir, destination_image_name)\n",
    "    \n",
    "    if not os.path.exists(save_path):\n",
    "        image = Image.open(original_image_path)\n",
    "        image.resize(calculate_image_size(image.width,image.height)).save(save_path, format=\"webp\")\n",
    "\n",
    "    candidate['Image'] = os.path.join('/', 'yourcandidates', image_dir, destination_image_name)\n",
    "    \n",
    "    return candidate"
   ]
  },
  {
   "cell_type": "code",
   "execution_count": 72,
   "id": "b790e55a",
   "metadata": {},
   "outputs": [
    {
     "data": {
      "application/vnd.jupyter.widget-view+json": {
       "model_id": "9840b0b01e4e48609b2f32ec899ccf5c",
       "version_major": 2,
       "version_minor": 0
      },
      "text/plain": [
       "  0%|          | 0/6669 [00:00<?, ?it/s]"
      ]
     },
     "metadata": {},
     "output_type": "display_data"
    }
   ],
   "source": [
    "for candidate in tqdm(candidate_list):\n",
    "    convert_and_resize(candidate)\n",
    "\n",
    "save_candidate_file(candidate_list)"
   ]
  },
  {
   "cell_type": "markdown",
   "id": "5457c9c2",
   "metadata": {},
   "source": [
    "# Save"
   ]
  },
  {
   "cell_type": "code",
   "execution_count": null,
   "id": "9eb61ce2",
   "metadata": {},
   "outputs": [],
   "source": [
    "import pandas as pd"
   ]
  },
  {
   "cell_type": "code",
   "execution_count": null,
   "id": "9d2a746e",
   "metadata": {},
   "outputs": [],
   "source": [
    "candidate_df = pd.DataFrame(candidate_list).drop(columns='Id')"
   ]
  },
  {
   "cell_type": "code",
   "execution_count": null,
   "id": "2c0a6cb2",
   "metadata": {},
   "outputs": [],
   "source": [
    "candidate_df"
   ]
  },
  {
   "cell_type": "code",
   "execution_count": null,
   "id": "a275657d",
   "metadata": {},
   "outputs": [],
   "source": [
    "candidate_df.to_csv('smartvote-candidates.csv')"
   ]
  },
  {
   "cell_type": "code",
   "execution_count": null,
   "id": "631b14e9",
   "metadata": {},
   "outputs": [],
   "source": []
  }
 ],
 "metadata": {
  "kernelspec": {
   "display_name": "Python 3 (ipykernel)",
   "language": "python",
   "name": "python3"
  },
  "language_info": {
   "codemirror_mode": {
    "name": "ipython",
    "version": 3
   },
   "file_extension": ".py",
   "mimetype": "text/x-python",
   "name": "python",
   "nbconvert_exporter": "python",
   "pygments_lexer": "ipython3",
   "version": "3.9.7"
  }
 },
 "nbformat": 4,
 "nbformat_minor": 5
}
